{
 "cells": [
  {
   "metadata": {
    "trusted": false
   },
   "cell_type": "markdown",
   "source": "### Day 1 퀴즈\n\n1. 다음 중 문자열(String) 자료형을 가진 변수는?  \n   a) age = 30  \n   b) name = \"Minhyuk\"  \n   c) is_student = False  \n   d) height = 180.3\n\n2. 다음 중 나머지를 구하는 연산자는?  \n   a) +  \n   b) -  \n   c) %  \n   d) //\n\n3. 다음 중 실행되지 않는 코드는?  \n   a) print(\"hello\")  \n   b) # 주석입니다  \n   c) name = \"홍길동\"  \n   d) input(\"이름을 입력하세요:\")"
  },
  {
   "metadata": {},
   "cell_type": "markdown",
   "source": "### 정답 및 해설\n\n1. **정답: b)**  \n   `name = \"Minhyuk\"`은 큰따옴표로 감싸진 문자열(String)이므로 문자열 자료형이다.  \n   반면 a는 정수형(int), c는 불리언(bool), d는 실수형(float)이다.\n\n2. **정답: c)**  \n   `%`는 나머지를 구하는 연산자이다.  \n   `+`, `-`는 덧셈/뺄셈이고, `//`는 몫(정수 나눗셈) 연산자이다.\n\n3. **정답: b)**  \n   `#`으로 시작한 라인은 **주석**이라 실행되지 않는다.  \n   나머지 코드는 모두 실행 가능한 코드이다."
  }
 ],
 "metadata": {
  "kernelspec": {
   "name": "python3",
   "display_name": "Python 3",
   "language": "python"
  },
  "language_info": {
   "name": "python",
   "version": "3.10.4",
   "mimetype": "text/x-python",
   "codemirror_mode": {
    "name": "ipython",
    "version": 3
   },
   "pygments_lexer": "ipython3",
   "nbconvert_exporter": "python",
   "file_extension": ".py"
  }
 },
 "nbformat": 4,
 "nbformat_minor": 2
}