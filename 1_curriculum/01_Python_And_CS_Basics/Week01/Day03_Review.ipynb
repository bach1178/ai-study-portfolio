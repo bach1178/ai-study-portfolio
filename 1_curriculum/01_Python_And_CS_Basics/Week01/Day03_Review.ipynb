{
 "cells": [
  {
   "metadata": {},
   "cell_type": "markdown",
   "source": "# 🧠Day 3 복습 정리\n\n## 1. 핵심 키워드 정리\n- 논리 연산자: and(그리고, 양쪽 모두 참이어야 참), or(또는, 하나라도 참어면 참), not(부정, 조건을 반대로 바꿈)\n- 중첩 조건문: if 안에 if\n- 조건 순서가 중요함 (유효성 체크 먼저)\n\n## 2. 학습 중 새로 알게 된 점, 자주 틀린 부분\n- int(input())으로 값을 받으면 if 조건에도 \" \" 사용 X \n- 중첩 조건문 사용 과도한 중첩 X\n- 문제 풀이 시 조건 잘 확인 필요\n\n## 3. 오늘 느낀 점\n- 조건문의 심화버전을 공부하고 복잡한 수준의 조건 설계를 조금 할 수 있게 됨.\n- 다양한 문제 상황에서 원하는 답을 얻기 위한 사고 능력을 훈련할 수 있었음.\n\n## 4. 다음 학습 준비\n- 리스트를 다루기 위한 리스트 구조 복습하기\n- append, pop, insert, sort 등 리스트에 사용하는 기능 미리 공부하기\n\n## 5. 질문 or 헷갈리는 포인트\n- 실제로 이런 간단한 논리 연산자 및 조건문이 보안/인증 분야에 활용되는지?\n  - 실제 보안/인증/시스템 제어/AI 분기 로직 등에서 핵심적으로 사용됌.\n  - or, and, not 등 다른 조건들이랑 조합하여 복합 조건 필터링에 활용.\n- 그럼 더 세분화 된 논리 연산자는 없나?\n  - Python에는 or, and, not 3개 뿐만 아니라 ^(XOR), not A and B/ (A and B) or C 등 구현 가능"
  }
 ],
 "metadata": {
  "kernelspec": {
   "name": "python3",
   "display_name": "Python 3",
   "language": "python"
  },
  "language_info": {
   "name": "python",
   "version": "3.10.4",
   "mimetype": "text/x-python",
   "codemirror_mode": {
    "name": "ipython",
    "version": 3
   },
   "pygments_lexer": "ipython3",
   "nbconvert_exporter": "python",
   "file_extension": ".py"
  }
 },
 "nbformat": 4,
 "nbformat_minor": 2
}