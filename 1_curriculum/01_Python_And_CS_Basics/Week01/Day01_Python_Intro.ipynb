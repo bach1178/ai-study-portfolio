{
 "cells": [
  {
   "metadata": {
    "trusted": true
   },
   "cell_type": "code",
   "source": "# 1. 변수와 자료형\nname = \"Minhyuk\"       # 문자열(str)\nage = 22               # 정수(int)\nheight = 183.5         # 실수(float)\nis_soldier = True      # 불(boolean)",
   "execution_count": 1,
   "outputs": []
  },
  {
   "metadata": {
    "trusted": true
   },
   "cell_type": "code",
   "source": "# 2. 출력\nprint(\"안녕하세요!\", name)\nprint(\"나이: \", age)\nprint(\"키가 몇센치에요?\", height\"입니다.\")  # 문자열과 변수 사이에 +연산자나 ,가 없고 \"입니다.\"라는 문자열이 height 변수에 붙어 있어서 실행이 안되었음.\nprint(\"군인이에요?\", is_soldier)",
   "execution_count": 2,
   "outputs": [
    {
     "output_type": "error",
     "ename": "SyntaxError",
     "evalue": "invalid syntax (<ipython-input-2-6c0bfa41a2ef>, line 4)",
     "traceback": [
      "\u001b[0;36m  File \u001b[0;32m\"<ipython-input-2-6c0bfa41a2ef>\"\u001b[0;36m, line \u001b[0;32m4\u001b[0m\n\u001b[0;31m    print(\"키가 몇센치에요?\", height\"입니다.\")  # 문자열과 변수 사이에 +연산자나 ,가 없고 \"입니다.\"라는 문자열이 height 변수에 붙어 있어서 실행이 안되었음.\u001b[0m\n\u001b[0m                             ^\u001b[0m\n\u001b[0;31mSyntaxError\u001b[0m\u001b[0;31m:\u001b[0m invalid syntax\n"
     ]
    }
   ]
  },
  {
   "metadata": {
    "trusted": true
   },
   "cell_type": "code",
   "source": "# 2. 출력(수정)\nprint(\"안녕하세요!\", name, \"입니다.\")\n# ,로 연결 사용(자동으로 띄어쓰가 들어감), 자료형을 자동으로 문자열로 바꿔 줌.(int, float, bool 등을 그냥 넣어도 됨.), 가장 많이 씀.\nprint(\"나이: \" + str(age) + \"살입니다.\")\n# 자동 띄어쓰기 없음 → 직접 띄어쓰기 \" \" 포함시켜야 함. 모든 항목이 반드시 문자열(str)이어야 함. 숫자나 불리언은 str()로 형 변환 필요.\nprint(f\"키가 몇센치에요? {height}cm입니다.\")\n# 자동 형변환 + 자동 문자열 조립. 가장 깔끔하고 많이 쓰이는 현대적 방식.\nprint(f\"군인이에요? {is_soldier}입니다.\")",
   "execution_count": 3,
   "outputs": [
    {
     "output_type": "stream",
     "text": "안녕하세요! Minhyuk 입니다.\n나이: 22살입니다.\n키가 몇센치에요? 183.5cm입니다.\n군인이에요? True입니다.\n",
     "name": "stdout"
    }
   ]
  },
  {
   "metadata": {
    "trusted": true
   },
   "cell_type": "code",
   "source": "# 3. 사용자 입력 (Juno에서는 input은 실행 안 될 수 있음)\n# 대신 변수에 직접 값 넣기\nfavorite_color = \"blue\"\nprint(\"좋아하는 색상은\", favorite_color)",
   "execution_count": 4,
   "outputs": [
    {
     "output_type": "stream",
     "text": "좋아하는 색상은 blue\n",
     "name": "stdout"
    }
   ]
  },
  {
   "metadata": {
    "trusted": true
   },
   "cell_type": "code",
   "source": "# 4. 연산자\na = 10\nb = 3\nprint(\"덧셈: \", a + b)\nprint(\"나눗셈: \", a / b)\nprint(\"몫: \", a // b)\nprint(\"나머지: \", a % b)",
   "execution_count": 5,
   "outputs": [
    {
     "output_type": "stream",
     "text": "덧셈:  13\n나눗셈:  3.3333333333333335\n몫:  3\n나머지:  1\n",
     "name": "stdout"
    }
   ]
  },
  {
   "metadata": {
    "trusted": true
   },
   "cell_type": "code",
   "source": "# 5. 주석 (이 코드는 실행되지 않음)\n# 이것은 주석입니다.",
   "execution_count": 6,
   "outputs": []
  }
 ],
 "metadata": {
  "kernelspec": {
   "name": "python3",
   "display_name": "Python 3",
   "language": "python"
  },
  "language_info": {
   "name": "python",
   "version": "3.10.4",
   "mimetype": "text/x-python",
   "codemirror_mode": {
    "name": "ipython",
    "version": 3
   },
   "pygments_lexer": "ipython3",
   "nbconvert_exporter": "python",
   "file_extension": ".py"
  }
 },
 "nbformat": 4,
 "nbformat_minor": 2
}