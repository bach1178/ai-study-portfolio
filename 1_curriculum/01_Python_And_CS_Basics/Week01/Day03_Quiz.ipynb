{
 "cells": [
  {
   "metadata": {},
   "cell_type": "markdown",
   "source": "## ❓ 개념 퀴즈\n### Day 3 퀴즈\n\n1. 논리 연산자 `or`의 설명으로 맞는 것은?  \n  a) 둘 다 참일 때만 참이다  \n  b) 둘 중 하나만 참이면 참이다  \n  c) 모두 거짓일 때만 참이다  \n  d) 조건을 반대로 바꾼다  \n  \n2. 중첩 조건문의 예시는?  \n  a) if x > 5: print(\"크다\")  \n  b) if x > 5 or x < 2: print(\"범위 외\")  \n  c) if x > 5: if x < 10: print(\"5~10\")  \n  d) if x == 5: print(\"정확히 5\")  \n  \n3. `not` 연산자의 결과가 True가 되는 경우는?  \n  a) not False  \n  b) not True  \n  c) not \"Python\"  \n  d) not 1 == 1  "
  },
  {
   "metadata": {},
   "cell_type": "markdown",
   "source": "### Day 3 퀴즈 정답 및 해설\n\n1. **정답: b)**  \n- or은 둘 중 **하나라도 참이면 참**이 되는 논리 연산자임.\n\n2. **정답: c)**  \n- 중첩 조건문은 if 안에 또 다른 if가 들어가는 구조로, if x > 5: if x < 10: 형태가 이에 해당됌.\n\n3. **정답: a)**  \n- not False는 True가 됌. not은 조건을 반대로 만드는 연산자이기 때문."
  }
 ],
 "metadata": {
  "kernelspec": {
   "name": "python3",
   "display_name": "Python 3",
   "language": "python"
  },
  "language_info": {
   "name": "python",
   "version": "3.10.4",
   "mimetype": "text/x-python",
   "codemirror_mode": {
    "name": "ipython",
    "version": 3
   },
   "pygments_lexer": "ipython3",
   "nbconvert_exporter": "python",
   "file_extension": ".py"
  }
 },
 "nbformat": 4,
 "nbformat_minor": 2
}