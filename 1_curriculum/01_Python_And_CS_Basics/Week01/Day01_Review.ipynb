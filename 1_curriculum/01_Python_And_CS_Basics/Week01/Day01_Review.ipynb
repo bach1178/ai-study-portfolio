{
 "cells": [
  {
   "metadata": {
    "trusted": false
   },
   "cell_type": "markdown",
   "source": "# Day 1 복습 정리\n\n## 1. 오늘 배운 내용 요약\n- Python 기본 문법: 변수, 출력, 연산자, 주석\n- 실습 코드 직접 실행\n- 퀴즈로 개념 확인\n\n## 2. 새로 알게 된 개념\n- 자료형: str, int, float, bool\n- 연산자 종류: +, -, *, /, %, //\n- Juno에서는 input 실행이 어려울 수 있음\n\n## 3. 오늘의 느낌\n오늘은 드디어 첫 내 개발 공부를 시작하였다. 처음으로 이렇게 꼼꼼하게 공부하고, 또 구체적인 방향을 설정해서 공부를 하는 것 같았다. print로 출력할 때 쉼표나 +, f-string으로 연결 안하고 변수 뒤에 또 문자를 붙였더니 안되는 것을 알았다. 앞으로 print로 출력할 때는 f-string을 적극 활용해야겠다고 생각하였다.군대 안에서 제한된 환경에서 공부하는거지만 열심히하여 전역 때는 실무에서 바로 프로젝트에 참가할 수 있는 개발자로 성장할 수 있도록 정진할 것이다.\n\n## 4. 다음 학습 준비\n- 조건문과 반복문으로 넘어가기\n- GitHub 가입 및 기본 사용법 연습"
  }
 ],
 "metadata": {
  "kernelspec": {
   "name": "python3",
   "display_name": "Python 3",
   "language": "python"
  },
  "language_info": {
   "name": "python",
   "version": "3.10.4",
   "mimetype": "text/x-python",
   "codemirror_mode": {
    "name": "ipython",
    "version": 3
   },
   "pygments_lexer": "ipython3",
   "nbconvert_exporter": "python",
   "file_extension": ".py"
  }
 },
 "nbformat": 4,
 "nbformat_minor": 2
}