{
 "cells": [
  {
   "metadata": {},
   "cell_type": "markdown",
   "source": "# Day2 | 조건문과 반복문 - 흐름 제어의 시작\n\n## 1. 오늘의 학습 목표\n| 목표                             | 설명                                                   |\n|----------------------------------|--------------------------------------------------------|\n| 조건문(if, elif, else)의 구조와 작동 원리 이해 | 다양한 조건 분기 처리 방법 익히기                           |\n| 반복문(for, while)의 개념과 차이점 학습       | 반복 처리 방식과 종료 조건 파악                            |\n| 실습을 통해 제어문을 직접 구현해보기         | 코드 흐름에 따라 다르게 작동하도록 직접 작성               |\n| Python 제어문을 활용한 사고력 키우기         | 프로그램 흐름을 논리적으로 설계하는 능력 향상              |\n\n## 2. 이론\n### 2.1 조건문(if, elif, else)\n조건문은 “조건을 검사하고, 참(True)인 경우에만 코드 실행”\n예: “비가 오면 우산을 챙기자”, “점수가 90 이상이면 A학점”"
  },
  {
   "metadata": {},
   "cell_type": "markdown",
   "source": "### 기본 구조  "
  },
  {
   "metadata": {
    "trusted": false
   },
   "cell_type": "code",
   "source": "if 조건:\n    실행할 코드\nelif 조건2:\n    실행할 코드2\nelse:\n    실행할 코드3",
   "execution_count": null,
   "outputs": []
  },
  {
   "metadata": {},
   "cell_type": "markdown",
   "source": "### 중요한 포인트  \n    •\t: (콜론) 반드시 사용\n\t•\t들여쓰기(Indentation)는 4칸 or 탭 하나 (Juno는 자동 처리)\n\t•\telif는 여러 개 가능\n\t•\telse는 생략 가능"
  },
  {
   "metadata": {},
   "cell_type": "markdown",
   "source": "### 예시"
  },
  {
   "metadata": {
    "trusted": false
   },
   "cell_type": "code",
   "source": "score = 90\n\nif score >= 90:\n    print(\"당신은 A학점입니다.\")\nelif score >= 80:\n    print(\"당신은 B학점입니다.\")\nelif score >= 70:\n    print(\"당신은 C학점입니다.\")\nelse:\n    print(\"당신은 F학점입니다.\")",
   "execution_count": 4,
   "outputs": [
    {
     "output_type": "stream",
     "text": "당신은 A학점입니다.\n",
     "name": "stdout"
    }
   ]
  },
  {
   "metadata": {},
   "cell_type": "markdown",
   "source": "### 2.2 반복문 (for, while)\n\n반복문은 “같은 동작을 여러 번 수행할 때 사용하는 문법”\n\nfor문 → 반복 횟수가 정해져 있을 때  \nwhile문 → 조건이 참일 동안 반복 (언제 끝날지 모를 때)\n\n### for문 기본 구조"
  },
  {
   "metadata": {
    "trusted": false
   },
   "cell_type": "code",
   "source": "for 변수 in 반복가능한_객체:\n    실행할 코드",
   "execution_count": null,
   "outputs": []
  },
  {
   "metadata": {
    "trusted": false
   },
   "cell_type": "code",
   "source": "# 예: 리스트 반복\nfruits = ['apple', 'banana', 'cherry']  # 이것이 리스트이다.\nfor fruit in fruits:\n    print(fruit)",
   "execution_count": 5,
   "outputs": [
    {
     "output_type": "stream",
     "text": "apple\nbanana\ncherry\n",
     "name": "stdout"
    }
   ]
  },
  {
   "metadata": {
    "trusted": true
   },
   "cell_type": "code",
   "source": "# 예: 숫자 범위 반복\nfor i in range(5):  # range(5)이면 0부터 4까지의 4개의 숫자,range(1, 6)이면 1부터 5까지의의 숫자를 변수 i에 저장\n    print(i)",
   "execution_count": 2,
   "outputs": [
    {
     "output_type": "stream",
     "text": "0\n1\n2\n3\n4\n",
     "name": "stdout"
    }
   ]
  },
  {
   "metadata": {},
   "cell_type": "markdown",
   "source": "### while문 기본 구조"
  },
  {
   "metadata": {
    "trusted": false
   },
   "cell_type": "code",
   "source": "while 조건:\n    실행할 코드",
   "execution_count": null,
   "outputs": []
  },
  {
   "metadata": {
    "trusted": false
   },
   "cell_type": "code",
   "source": "# 예: 3번 반복\ncount = 0\nwhile count < 3:\n    print(\"반복:\", count)\n    count += 1",
   "execution_count": 7,
   "outputs": [
    {
     "output_type": "stream",
     "text": "반복: 0\n반복: 1\n반복: 2\n",
     "name": "stdout"
    }
   ]
  },
  {
   "metadata": {},
   "cell_type": "markdown",
   "source": "## 실습"
  },
  {
   "metadata": {
    "trusted": false
   },
   "cell_type": "code",
   "source": "# 1. 조건문 실습\ntemperature = int(input(\"오늘의의온도를 입력하세요: \"))\n# input을 통해 정수인 int 값을 받음\nif temperature >= 25:\n    print(\"날씨가 덥습니다.\") # 만약 input을 통해 받은 값이 25이 이상일 경우\nelif temperature >= 15:\n    print(\"날씨가 선선합니다.\")  # 만약 input을 통해 받은 값이 15이 이상일 경우\nelse:\n    print(\"날씨가 춥습니다.\")  # 만약 input을 통해 받은 값이 그 외일 경우",
   "execution_count": 2,
   "outputs": [
    {
     "output_type": "stream",
     "name": "stdout",
     "text": "오늘의의온도를 입력하세요: 17\n날씨가 선선합니다.\n"
    }
   ]
  },
  {
   "metadata": {
    "trusted": false
   },
   "cell_type": "code",
   "source": "# 2. for문 실습\nfor i in range(1, 6):  # 1부터 6까지의 값을 한번 반복할 때마다 i에 저장 후 값을 출력\n    print(f\"{i}번째 인사: 안녕하세요!\")",
   "execution_count": 3,
   "outputs": [
    {
     "output_type": "stream",
     "text": "1번째 인사: 안녕하세요!\n2번째 인사: 안녕하세요!\n3번째 인사: 안녕하세요!\n4번째 인사: 안녕하세요!\n5번째 인사: 안녕하세요!\n",
     "name": "stdout"
    }
   ]
  },
  {
   "metadata": {
    "trusted": true
   },
   "cell_type": "code",
   "source": "names = [\"Minhyuk\", \"Alice\", \"Bob\"] # 리스트 안의 str들을 names에 저장\nfor name in names:\n    print(\"Hello, \", name)  # names 변수 안에 저장된 리스트 안의 str값들을 한번 반복할 때마다 name에 저장 후 값을 출력",
   "execution_count": 3,
   "outputs": [
    {
     "output_type": "stream",
     "text": "Hello,  Minhyuk\nHello,  Alice\nHello,  Bob\n",
     "name": "stdout"
    }
   ]
  },
  {
   "metadata": {
    "trusted": true
   },
   "cell_type": "code",
   "source": "# 3. while문 실습\nx = 0\nwhile x < 3: # x라는 변수가 3이 되기 이전까지 반복한다는 조건\n    print(\"현재 x는\", x)\n    x += 1 # 한번 반복 후 x 변수에 1을 더함",
   "execution_count": 4,
   "outputs": [
    {
     "output_type": "stream",
     "text": "현재 x는 0\n현재 x는 1\n현재 x는 2\n",
     "name": "stdout"
    }
   ]
  }
 ],
 "metadata": {
  "kernelspec": {
   "name": "python3",
   "display_name": "Python 3",
   "language": "python"
  },
  "language_info": {
   "name": "python",
   "version": "3.10.4",
   "mimetype": "text/x-python",
   "codemirror_mode": {
    "name": "ipython",
    "version": 3
   },
   "pygments_lexer": "ipython3",
   "nbconvert_exporter": "python",
   "file_extension": ".py"
  }
 },
 "nbformat": 4,
 "nbformat_minor": 2
}