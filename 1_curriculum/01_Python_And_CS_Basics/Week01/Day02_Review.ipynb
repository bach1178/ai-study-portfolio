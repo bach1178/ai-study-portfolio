{
 "cells": [
  {
   "metadata": {},
   "cell_type": "markdown",
   "source": "# Day 2 복습 정리\n\n## 1. 오늘 배운 핵심\n- 조건문(if, elif, else)의 구조와 실행 흐름\n- for, while 반복문 차이\n- range(), 리스트 순회, 조건 기반 반복 방식\n\n## 2. 실습 중 새롭게 알게 된 점\n- for문은 리스트, range 등 반복 가능한 객체에 사용\n- while은 조건이 계속 True일 경우 무한 루프 발생\n- 들여쓰기 실수 시 에러 발생 가능\n\n## 3. 오늘 느낀 점과 난이도\n- 오늘은 처음으로 GitHub라는 사이트에 가입해서 나만의 저장소도 만들고, 그곳에다가 Day 1 학습 내용을 처음으로 커밋해봤다. 그리고 커밋할 때 커밋 메시지라는 것 또한 잘 적어놔야 나중에 팀프로젝트 시 이력을 잘 파악할 수 있겠다는 생각도 들었다. 또 Day 2에선 조건문과 반복문을 학습해보며 input, print, 변수 저장 밖에 할 줄 몰랐던 나에서 if문, for문, while문을 사용해보며 내가 할 수 있는 것이 두배로 늘어났단 것에 뿌듯함과 동시에 이런 기본적인 것에서 부터 차근 차근 잘 쌓아올려야 내가 목표로 하는 AI에 다가갈 수 있을 것이다.\n\n## 4. 다음 학습 준비\n- 조건과 반복을 활용한 간단한 프로그램 만들기 연습\n- 논리 연산자, 중첩 구조도 함께 익히기\n\n## 5. 질문 or 헷갈리는 포인트\n- if 중첩 가능? elif 여러 개 가능?\n  - if 중첩 및 elif 여러 개는 가능하다. if 안에 if가 들어간 중첩 if문이이있다. 조건이 세분화된 상황에서 유리함. 또한 elif도 여러개 사용 가능한 대신 맨 처음엔 반드시 if, 그 다음엔 elif, 마지막에 필요하면 else를 사용하면 된다.\n- while 반복 중 조건 변화 없이 루프 빠져나올 수 있나?\n  - break문을 사용하면 조건 변화 없이도 탈출 가능하다. break가 실행되면 강제로 while문을 빠져나온다."
  }
 ],
 "metadata": {
  "kernelspec": {
   "name": "python3",
   "display_name": "Python 3",
   "language": "python"
  },
  "language_info": {
   "name": "python",
   "version": "3.10.4",
   "mimetype": "text/x-python",
   "codemirror_mode": {
    "name": "ipython",
    "version": 3
   },
   "pygments_lexer": "ipython3",
   "nbconvert_exporter": "python",
   "file_extension": ".py"
  }
 },
 "nbformat": 4,
 "nbformat_minor": 2
}