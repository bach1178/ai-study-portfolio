{
 "cells": [
  {
   "metadata": {},
   "cell_type": "markdown",
   "source": "### Day 2 퀴즈\n\n1. 다음 중 조건문으로 올바르게 작성된 것은?  \n   a) if x > 10 print(\"크다\")  \n   b) if x > 10: print(\"크다\")  \n   c) if x > 10 then print(\"크다\")  \n   d) x > 10 ? print(\"크다\") : print(\"작다\")\n\n2. for i in range(3)의 출력값은?  \n   a) 0, 1, 2  \n   b) 1, 2, 3  \n   c) 0, 1, 2, 3  \n   d) 1, 2, 3, 4\n\n3. while문이 무한 루프가 되는 조건은?  \n   a) 조건이 항상 False  \n   b) 조건이 항상 True  \n   c) 조건이 None  \n   d) 반복문 내부에 `+=` 구문이 있을 때"
  },
  {
   "metadata": {},
   "cell_type": "markdown",
   "source": "### 정답 및 해설\n\n1. **정답: b)**\nb) 제외한 나머지는 문법에 맞지 않는다.\n2. **정답: a)**\nrange(3)은 0부터 시작해서 3보다 작은 수까지의 정수를 i에 저장하기 때문이다.\n3. **정답: b)**\nwhile 문은 조건이 True일 때 계속 반복되고, 조건이 False가 되어야 멈추기 때문에 조건이 항상 True이면 무한반복이 됨."
  }
 ],
 "metadata": {
  "kernelspec": {
   "name": "python3",
   "display_name": "Python 3",
   "language": "python"
  },
  "language_info": {
   "name": "python",
   "version": "3.10.4",
   "mimetype": "text/x-python",
   "codemirror_mode": {
    "name": "ipython",
    "version": 3
   },
   "pygments_lexer": "ipython3",
   "nbconvert_exporter": "python",
   "file_extension": ".py"
  }
 },
 "nbformat": 4,
 "nbformat_minor": 2
}