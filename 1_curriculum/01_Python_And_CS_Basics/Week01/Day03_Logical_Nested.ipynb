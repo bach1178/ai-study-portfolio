{
 "cells": [
  {
   "metadata": {},
   "cell_type": "markdown",
   "source": "# Day 3 | 논리 연산자와 중첩 조건문 - 복합 흐름 제어의 시작"
  },
  {
   "metadata": {},
   "cell_type": "markdown",
   "source": "## ✅ 학습 목표\n\n| 분류 | 목표 설명 |\n|------|-----------|\n| 논리 연산자 이해 | `and`, `or`, `not`의 작동 방식과 조건 결합 방식 학습 |\n| 중첩 조건문 구조 학습 | `if` 안에 `if`가 들어가는 구조로 복잡한 조건 설계 |\n| 제어 흐름 설계 능력 향상 | 실제 조건 분기 설계를 위한 사고 능력 훈련 |\n| 실습 중심 학습 | 다양한 조합 문제를 직접 구현하며 체화 |"
  },
  {
   "metadata": {},
   "cell_type": "markdown",
   "source": "## 📘 이론 설명\n\n### 1. 논리 연산자 (Logical Operators)\n\n논리 연산자는 여러 개의 조건을 조합해서 복합 조건을 평가하는 데 사용됌.\n이때 사용하는 대표적인 연산자는 다음과 같음:"
  },
  {
   "metadata": {},
   "cell_type": "markdown",
   "source": "| 연산자 | 이름 | 설명 | 예시 |\n|--------|------|------|------|\n| `and` | 그리고 | 양쪽 모두 참이어야 참 | `x > 5 and x < 10` |\n| `or` | 또는 | 하나라도 참이면 참 | `x < 0 or x > 100` |\n| `not` | 부정 | 조건을 반대로 바꿈 | `not True → False` |"
  },
  {
   "metadata": {},
   "cell_type": "markdown",
   "source": "#### 논리 연산자 작동 흐름\n조건 A | 조건 B | A and B | A or B | not A\n--------|--------|----------|--------|-------\nTrue    | True   | True     | True   | False\nTrue    | False  | False    | True   | False\nFalse   | True   | False    | True   | True\nFalse   | False  | False    | False  | True"
  },
  {
   "metadata": {},
   "cell_type": "markdown",
   "source": "### 2. 중첩 조건문 (Nested if)\nif 문 안에 다시 if 문을 넣는 구조로, 복잡한 조건을 처리할 수 있음."
  },
  {
   "metadata": {
    "trusted": true
   },
   "cell_type": "code",
   "source": "# 예시\nage = 20\nif age >= 18:\n    if age < 65:\n        print(\"성인입니다.\")\n    else:\n        print(\"노년층입니다.\")\nelse:\n    print(\"미성년자입니다.\")",
   "execution_count": 4,
   "outputs": [
    {
     "output_type": "stream",
     "text": "성인입니다.\n",
     "name": "stdout"
    }
   ]
  },
  {
   "metadata": {},
   "cell_type": "markdown",
   "source": "•\t정의: 조건문 안에서 다시 조건문을 쓰는 구조  \n•\t용도: 한 조건이 참일 때, 그 안에서 추가 조건을 평가  \n•\t주의: 들여쓰기 필수, 과도한 중첩은 가독성 저하  "
  },
  {
   "metadata": {},
   "cell_type": "markdown",
   "source": "#### 중첩 조건문 흐름도\n[조건 1: age >= 18?]  \n.....|  \n   True  \n.....|  \n[조건 2: age < 65?]  \n.....|.........\\  \n...True.....False  \n....|............|  \n\"성인\"       \"노년층\""
  },
  {
   "metadata": {},
   "cell_type": "markdown",
   "source": "## 💻 실습 문제"
  },
  {
   "metadata": {},
   "cell_type": "markdown",
   "source": "### 문제 1: 로그인 인증 조건문 만들기\n\n조건:  \n\t•\tusername == \"admin\"  \n\t•\tpassword == \"1234\"  \n\t•\t두 조건 모두 만족해야 \"로그인 성공\" 출력  \n\t•\t둘 중 하나라도 틀리면 \"로그인 실패\""
  },
  {
   "metadata": {
    "trusted": false
   },
   "cell_type": "code",
   "source": "# 참고 코드\nif username == \"admin\" and password == \"1234\":\n    print(\"로그인 성공\")\nelse:\n    print(\"로그인 실패\")\n\n# 힌트\n# 문자열 비교는 `==` 사용, `and`는 두 조건 모두 참일 때만 실행\n\n# 오류 포인트\n# if 조건에 콤마(,) 쓰지 않도록 주의!",
   "execution_count": null,
   "outputs": []
  },
  {
   "metadata": {
    "trusted": true
   },
   "cell_type": "code",
   "source": "username = input(\"ID를 입력하세요: \")",
   "execution_count": 1,
   "outputs": [
    {
     "output_type": "stream",
     "name": "stdout",
     "text": "ID를 입력하세요: admin\n"
    }
   ]
  },
  {
   "metadata": {
    "trusted": true
   },
   "cell_type": "code",
   "source": "password = input(\"비밀번호를 입력하세요: \")",
   "execution_count": 2,
   "outputs": [
    {
     "output_type": "stream",
     "name": "stdout",
     "text": "비밀번호를 입력하세요: 1234\n"
    }
   ]
  },
  {
   "metadata": {
    "trusted": true
   },
   "cell_type": "code",
   "source": "if username == \"admin\" and password == \"1234\":\n    print(\"로그인 성공\")\nelse:\n    print(\"로그인 실패\")",
   "execution_count": 3,
   "outputs": [
    {
     "output_type": "stream",
     "text": "로그인 성공\n",
     "name": "stdout"
    }
   ]
  },
  {
   "metadata": {},
   "cell_type": "markdown",
   "source": "### 문제 2: 점수에 따라 등급 출력하기\n\n조건:  \n\t•\t100 초과 → “유효하지 않은 점수입니다.”  \n\t•\t90 이상 → “A”  \n\t•\t80 ~ 89 → “B”  \n\t•\t70 ~ 79 → “C”  \n\t•\t그 외 → “F”  "
  },
  {
   "metadata": {
    "trusted": true
   },
   "cell_type": "code",
   "source": "# 힌트\n# 100 초과 조건을 먼저 써야 함\n\n# 오류 포인트\n# 조건 순서가 잘못되면 105도 A로 나올 수 있음",
   "execution_count": 5,
   "outputs": []
  },
  {
   "metadata": {
    "trusted": true
   },
   "cell_type": "code",
   "source": "score = int(input(\"점수를 입력하세요: \"))\n\nif score > 100:\n    print(\"유효하지 않은 점수입니다.\")\nelif score >= 90:\n    print(\"A\")\nelif score >= 80:\n    print(\"B\")\nelif score >= 70:\n    print(\"C\")\nelse:\n    print(\"F\")",
   "execution_count": 7,
   "outputs": [
    {
     "output_type": "stream",
     "name": "stdout",
     "text": "점수를 입력하세요: 89\nB\n"
    }
   ]
  },
  {
   "metadata": {},
   "cell_type": "markdown",
   "source": "### 문제 3: not 연산자 활용\n\n조건:  \n\t•\t변수 user_logged_in = False  \n\t•\t로그인이 안 된 경우 \"로그인이 필요합니다\" 출력"
  },
  {
   "metadata": {
    "trusted": true
   },
   "cell_type": "code",
   "source": "# 힌트\n# not user_logged_in → True일 때 실행\n\n# 오류 포인트\n# not을 쓰면 조건이 반대로 적용된다는 개념 명확히 이해",
   "execution_count": 8,
   "outputs": []
  },
  {
   "metadata": {
    "trusted": true
   },
   "cell_type": "code",
   "source": "user_logged_in = False\n\nif not user_logged_in == True:\n    print(\"로그인이 필요합니다.\")",
   "execution_count": 9,
   "outputs": [
    {
     "output_type": "stream",
     "text": "로그인이 필요합니다.\n",
     "name": "stdout"
    }
   ]
  }
 ],
 "metadata": {
  "kernelspec": {
   "name": "python3",
   "display_name": "Python 3",
   "language": "python"
  },
  "language_info": {
   "name": "python",
   "version": "3.10.4",
   "mimetype": "text/x-python",
   "codemirror_mode": {
    "name": "ipython",
    "version": 3
   },
   "pygments_lexer": "ipython3",
   "nbconvert_exporter": "python",
   "file_extension": ".py"
  }
 },
 "nbformat": 4,
 "nbformat_minor": 2
}